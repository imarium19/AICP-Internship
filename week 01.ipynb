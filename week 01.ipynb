{
 "cells": [
  {
   "cell_type": "code",
   "execution_count": 1,
   "id": "04f33d56",
   "metadata": {},
   "outputs": [],
   "source": [
    "import numpy as np"
   ]
  },
  {
   "cell_type": "markdown",
   "id": "fed35c6b",
   "metadata": {},
   "source": [
    "### Q1) Create an array of all even integers from 30 to 70:\n"
   ]
  },
  {
   "cell_type": "code",
   "execution_count": 4,
   "id": "61bbb2cd",
   "metadata": {},
   "outputs": [
    {
     "name": "stdout",
     "output_type": "stream",
     "text": [
      "[30 32 34 36 38 40 42 44 46 48 50 52 54 56 58 60 62 64 66 68]\n"
     ]
    }
   ],
   "source": [
    "array= np.arange(30,70,2)\n",
    "print(array)"
   ]
  },
  {
   "cell_type": "markdown",
   "id": "68e1a723",
   "metadata": {},
   "source": [
    "### Q2) Generate an array of 15 random numbers from a standard normal distribution:"
   ]
  },
  {
   "cell_type": "code",
   "execution_count": 5,
   "id": "4c9563f3",
   "metadata": {},
   "outputs": [
    {
     "name": "stdout",
     "output_type": "stream",
     "text": [
      "[-0.97384012  0.75904275 -0.59763925 -0.23413806 -1.21417045 -0.64543728\n",
      "  0.07181077  0.59936228 -0.32340301 -0.1084111   2.27550036  0.81715696\n",
      "  0.02919984  0.34323262  0.01264367]\n"
     ]
    }
   ],
   "source": [
    "random_numbers = np.random.randn(15)\n",
    "print(random_numbers)"
   ]
  },
  {
   "cell_type": "markdown",
   "id": "d4476caa",
   "metadata": {},
   "source": [
    "### Q3) Compute the cross-product of two matrices in NumPy:"
   ]
  },
  {
   "cell_type": "code",
   "execution_count": 6,
   "id": "37ad2460",
   "metadata": {},
   "outputs": [
    {
     "name": "stdout",
     "output_type": "stream",
     "text": [
      "[[-10  20 -10]\n",
      " [-10  20 -10]\n",
      " [-10  20 -10]]\n"
     ]
    }
   ],
   "source": [
    "matrix_a = np.array([[1, 2, 3], [4, 5, 6], [7, 8, 9]])\n",
    "matrix_b = np.array([[9, 8, 7], [6, 5, 4], [3, 2, 1]])\n",
    "\n",
    "cross_product = np.cross(matrix_a, matrix_b)\n",
    "print(cross_product)"
   ]
  },
  {
   "cell_type": "markdown",
   "id": "7c206282",
   "metadata": {},
   "source": [
    "### Q4) Compute the determinant of an array using NumPy:"
   ]
  },
  {
   "cell_type": "code",
   "execution_count": 11,
   "id": "f738d87b",
   "metadata": {},
   "outputs": [
    {
     "name": "stdout",
     "output_type": "stream",
     "text": [
      "6.000000000000003\n"
     ]
    }
   ],
   "source": [
    "matrix = np.array([[9, 4], [3, 2]])\n",
    "\n",
    "determinant = np.linalg.det(matrix)\n",
    "print(determinant)"
   ]
  },
  {
   "cell_type": "markdown",
   "id": "4b820d63",
   "metadata": {},
   "source": [
    "### Q5) Create a 3x3x3 array with random values using NumPy:"
   ]
  },
  {
   "cell_type": "code",
   "execution_count": 12,
   "id": "11d8170f",
   "metadata": {},
   "outputs": [
    {
     "name": "stdout",
     "output_type": "stream",
     "text": [
      "[[[0.53670453 0.35114122 0.94352117]\n",
      "  [0.87000814 0.98344304 0.77795066]\n",
      "  [0.84573117 0.6264565  0.40656293]]\n",
      "\n",
      " [[0.41808257 0.61929621 0.28654561]\n",
      "  [0.91716395 0.33210846 0.16582889]\n",
      "  [0.25870939 0.09554998 0.93343286]]\n",
      "\n",
      " [[0.03248714 0.04690003 0.1409394 ]\n",
      "  [0.72290897 0.25007711 0.8601727 ]\n",
      "  [0.00145491 0.75436318 0.93561044]]]\n"
     ]
    }
   ],
   "source": [
    "random_3d_array = np.random.random((3, 3, 3))\n",
    "print(random_3d_array)"
   ]
  },
  {
   "cell_type": "markdown",
   "id": "f02eb650",
   "metadata": {},
   "source": [
    "### Q6) Create a 5x5 array with random values and find the minimum and maximum values using NumPy:"
   ]
  },
  {
   "cell_type": "code",
   "execution_count": 13,
   "id": "fed1aef9",
   "metadata": {},
   "outputs": [
    {
     "name": "stdout",
     "output_type": "stream",
     "text": [
      "Minimum value: 0.05545023313724562\n",
      "Maximum value: 0.9861844140117939\n"
     ]
    }
   ],
   "source": [
    "random_5x5_array = np.random.random((5, 5))\n",
    "min_value = np.min(random_5x5_array)\n",
    "max_value = np.max(random_5x5_array)\n",
    "\n",
    "print(\"Minimum value:\", min_value)\n",
    "print(\"Maximum value:\", max_value)"
   ]
  },
  {
   "cell_type": "markdown",
   "id": "10d06d4b",
   "metadata": {},
   "source": [
    "### Q7) Compute the mean, standard deviation, and variance of a given array along the second axis in NumPy:"
   ]
  },
  {
   "cell_type": "code",
   "execution_count": 14,
   "id": "f7f1e238",
   "metadata": {},
   "outputs": [
    {
     "name": "stdout",
     "output_type": "stream",
     "text": [
      "Mean along the second axis: [2. 5.]\n",
      "Standard Deviation along the second axis: [0.81649658 0.81649658]\n",
      "Variance along the second axis: [0.66666667 0.66666667]\n"
     ]
    }
   ],
   "source": [
    "given_array = np.array([[1, 2, 3], [4, 5, 6]])\n",
    "\n",
    "mean_value = np.mean(given_array, axis=1)\n",
    "std_deviation = np.std(given_array, axis=1)\n",
    "variance = np.var(given_array, axis=1)\n",
    "\n",
    "print(\"Mean along the second axis:\", mean_value)\n",
    "print(\"Standard Deviation along the second axis:\", std_deviation)\n",
    "print(\"Variance along the second axis:\", variance)"
   ]
  },
  {
   "cell_type": "code",
   "execution_count": null,
   "id": "0db6d0e2",
   "metadata": {},
   "outputs": [],
   "source": []
  }
 ],
 "metadata": {
  "kernelspec": {
   "display_name": "Python 3 (ipykernel)",
   "language": "python",
   "name": "python3"
  },
  "language_info": {
   "codemirror_mode": {
    "name": "ipython",
    "version": 3
   },
   "file_extension": ".py",
   "mimetype": "text/x-python",
   "name": "python",
   "nbconvert_exporter": "python",
   "pygments_lexer": "ipython3",
   "version": "3.11.2"
  }
 },
 "nbformat": 4,
 "nbformat_minor": 5
}
